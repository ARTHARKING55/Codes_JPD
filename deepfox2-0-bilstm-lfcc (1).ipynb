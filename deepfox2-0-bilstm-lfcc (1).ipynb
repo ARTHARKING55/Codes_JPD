{
 "cells": [
  {
   "cell_type": "code",
   "execution_count": 1,
   "id": "9e753d4c",
   "metadata": {
    "execution": {
     "iopub.execute_input": "2025-03-25T10:24:27.913147Z",
     "iopub.status.busy": "2025-03-25T10:24:27.912865Z",
     "iopub.status.idle": "2025-03-25T10:24:32.375830Z",
     "shell.execute_reply": "2025-03-25T10:24:32.375073Z"
    },
    "papermill": {
     "duration": 4.470578,
     "end_time": "2025-03-25T10:24:32.377521",
     "exception": false,
     "start_time": "2025-03-25T10:24:27.906943",
     "status": "completed"
    },
    "tags": []
   },
   "outputs": [],
   "source": [
    "import torch \n",
    "import torch.nn as nn\n",
    "import torch.nn.functional as F\n",
    "from torch.autograd import Variable\n",
    "from torch.utils.data import Dataset, DataLoader\n",
    "import os, pathlib, glob, random\n",
    "import numpy as np\n",
    "import matplotlib.pyplot as plt \n",
    "from sklearn.metrics import confusion_matrix\n",
    "import scipy\n",
    "from scipy import io"
   ]
  },
  {
   "cell_type": "code",
   "execution_count": 2,
   "id": "e8e472a2",
   "metadata": {
    "execution": {
     "iopub.execute_input": "2025-03-25T10:24:32.387072Z",
     "iopub.status.busy": "2025-03-25T10:24:32.386699Z",
     "iopub.status.idle": "2025-03-25T10:24:32.454493Z",
     "shell.execute_reply": "2025-03-25T10:24:32.453667Z"
    },
    "papermill": {
     "duration": 0.073602,
     "end_time": "2025-03-25T10:24:32.455769",
     "exception": false,
     "start_time": "2025-03-25T10:24:32.382167",
     "status": "completed"
    },
    "tags": []
   },
   "outputs": [
    {
     "name": "stdout",
     "output_type": "stream",
     "text": [
      "cuda:0\n"
     ]
    }
   ],
   "source": [
    "device = torch.device('cuda:0' if torch.cuda.is_available() else 'cpu')\n",
    "print(device)"
   ]
  },
  {
   "cell_type": "code",
   "execution_count": 3,
   "id": "7afac894",
   "metadata": {
    "execution": {
     "iopub.execute_input": "2025-03-25T10:24:32.465113Z",
     "iopub.status.busy": "2025-03-25T10:24:32.464877Z",
     "iopub.status.idle": "2025-03-25T10:24:32.468253Z",
     "shell.execute_reply": "2025-03-25T10:24:32.467453Z"
    },
    "papermill": {
     "duration": 0.00937,
     "end_time": "2025-03-25T10:24:32.469644",
     "exception": false,
     "start_time": "2025-03-25T10:24:32.460274",
     "status": "completed"
    },
    "tags": []
   },
   "outputs": [],
   "source": [
    "batch_size = 32\n",
    "output_nodes = 2\n",
    "learning_rate = 0.003"
   ]
  },
  {
   "cell_type": "code",
   "execution_count": 4,
   "id": "c5ff7712",
   "metadata": {
    "execution": {
     "iopub.execute_input": "2025-03-25T10:24:32.478656Z",
     "iopub.status.busy": "2025-03-25T10:24:32.478425Z",
     "iopub.status.idle": "2025-03-25T10:24:32.481664Z",
     "shell.execute_reply": "2025-03-25T10:24:32.480985Z"
    },
    "papermill": {
     "duration": 0.009101,
     "end_time": "2025-03-25T10:24:32.482898",
     "exception": false,
     "start_time": "2025-03-25T10:24:32.473797",
     "status": "completed"
    },
    "tags": []
   },
   "outputs": [],
   "source": [
    "train_data_path = r\"/kaggle/input/jpd-df2-lfcc-t2/LFCC/train\"\n",
    "# test_data_path =r\"/kaggle/input/t1-lfcc-mladdc/LFCC_T1/test\"\n",
    "validation_data_path= r\"/kaggle/input/jpd-df2-lfcc-t2/LFCC/val\""
   ]
  },
  {
   "cell_type": "code",
   "execution_count": 5,
   "id": "7b288fac",
   "metadata": {
    "execution": {
     "iopub.execute_input": "2025-03-25T10:24:32.491621Z",
     "iopub.status.busy": "2025-03-25T10:24:32.491400Z",
     "iopub.status.idle": "2025-03-25T10:24:32.498933Z",
     "shell.execute_reply": "2025-03-25T10:24:32.498288Z"
    },
    "papermill": {
     "duration": 0.013181,
     "end_time": "2025-03-25T10:24:32.500105",
     "exception": false,
     "start_time": "2025-03-25T10:24:32.486924",
     "status": "completed"
    },
    "tags": []
   },
   "outputs": [],
   "source": [
    "class PtDataset(Dataset):\n",
    "    def __init__(self, directory):\n",
    "        self.directory = directory\n",
    "        self.classes = sorted(entry.name for entry in os.scandir(directory) if entry.is_dir())\n",
    "        self.class_to_idx = {c: i for i, c in enumerate(self.classes)}\n",
    "        self.files = []\n",
    "        for c in self.classes:\n",
    "            c_dir = os.path.join(directory, c)\n",
    "            c_files = [(os.path.join(c_dir, f), self.class_to_idx[c]) for f in os.listdir(c_dir)]\n",
    "            self.files.extend(c_files)\n",
    "        random.shuffle(self.files)\n",
    "        \n",
    "    def __len__(self):\n",
    "        return len(self.files)\n",
    "    \n",
    "    def __getitem__(self, idx):\n",
    "        filepath, label = self.files[idx]\n",
    "        try:\n",
    "            mat_vals = scipy.io.loadmat(filepath)\n",
    "            data = mat_vals['final']\n",
    "            data = data.T\n",
    "            max_len=800\n",
    "            if (max_len > data.shape[0]):\n",
    "                pad_width = max_len - data.shape[0]\n",
    "                data = np.pad(data, pad_width=((0, pad_width),(0,0)), mode='constant')\n",
    "            else:\n",
    "                data = data[:max_len, :]\n",
    "        except Exception as e:\n",
    "            print(f\"Error loading file {filepath}: {str(e)}\")\n",
    "            return None\n",
    "        return data, label"
   ]
  },
  {
   "cell_type": "code",
   "execution_count": 6,
   "id": "771765a2",
   "metadata": {
    "execution": {
     "iopub.execute_input": "2025-03-25T10:24:32.508936Z",
     "iopub.status.busy": "2025-03-25T10:24:32.508704Z",
     "iopub.status.idle": "2025-03-25T10:24:35.342068Z",
     "shell.execute_reply": "2025-03-25T10:24:35.341321Z"
    },
    "papermill": {
     "duration": 2.839559,
     "end_time": "2025-03-25T10:24:35.343747",
     "exception": false,
     "start_time": "2025-03-25T10:24:32.504188",
     "status": "completed"
    },
    "tags": []
   },
   "outputs": [],
   "source": [
    "train_dataset = PtDataset(train_data_path)\n",
    "# test_dataset = PtDataset(test_data_path)\n",
    "val_dataset = PtDataset(validation_data_path)"
   ]
  },
  {
   "cell_type": "code",
   "execution_count": 7,
   "id": "08f1590f",
   "metadata": {
    "execution": {
     "iopub.execute_input": "2025-03-25T10:24:35.353195Z",
     "iopub.status.busy": "2025-03-25T10:24:35.352955Z",
     "iopub.status.idle": "2025-03-25T10:24:35.356505Z",
     "shell.execute_reply": "2025-03-25T10:24:35.355848Z"
    },
    "papermill": {
     "duration": 0.009582,
     "end_time": "2025-03-25T10:24:35.357746",
     "exception": false,
     "start_time": "2025-03-25T10:24:35.348164",
     "status": "completed"
    },
    "tags": []
   },
   "outputs": [],
   "source": [
    "class PtDataLoader(DataLoader):\n",
    "    def __init__(self, directory, batch_size, shuffle=True):\n",
    "        dataset = PtDataset(directory)\n",
    "        super().__init__(dataset, batch_size=batch_size, shuffle=shuffle)"
   ]
  },
  {
   "cell_type": "code",
   "execution_count": 8,
   "id": "d7cf2895",
   "metadata": {
    "execution": {
     "iopub.execute_input": "2025-03-25T10:24:35.366698Z",
     "iopub.status.busy": "2025-03-25T10:24:35.366485Z",
     "iopub.status.idle": "2025-03-25T10:24:35.709505Z",
     "shell.execute_reply": "2025-03-25T10:24:35.708812Z"
    },
    "papermill": {
     "duration": 0.349258,
     "end_time": "2025-03-25T10:24:35.711090",
     "exception": false,
     "start_time": "2025-03-25T10:24:35.361832",
     "status": "completed"
    },
    "tags": []
   },
   "outputs": [],
   "source": [
    "train_dataloader = PtDataLoader(directory=train_data_path, batch_size=batch_size)\n",
    "# test_dataloader = PtDataLoader(directory=test_data_path, batch_size=batch_size)\n",
    "val_dataloader = PtDataLoader(directory=validation_data_path, batch_size=batch_size)"
   ]
  },
  {
   "cell_type": "code",
   "execution_count": 9,
   "id": "2c081a34",
   "metadata": {
    "execution": {
     "iopub.execute_input": "2025-03-25T10:24:35.720439Z",
     "iopub.status.busy": "2025-03-25T10:24:35.720143Z",
     "iopub.status.idle": "2025-03-25T10:24:35.723256Z",
     "shell.execute_reply": "2025-03-25T10:24:35.722571Z"
    },
    "papermill": {
     "duration": 0.009059,
     "end_time": "2025-03-25T10:24:35.724560",
     "exception": false,
     "start_time": "2025-03-25T10:24:35.715501",
     "status": "completed"
    },
    "tags": []
   },
   "outputs": [],
   "source": [
    "train_count = len(train_dataset) \n",
    "# test_count = len(test_dataset)\n",
    "val_count = len(val_dataset)"
   ]
  },
  {
   "cell_type": "code",
   "execution_count": 10,
   "id": "c6dc6e3c",
   "metadata": {
    "execution": {
     "iopub.execute_input": "2025-03-25T10:24:35.733628Z",
     "iopub.status.busy": "2025-03-25T10:24:35.733396Z",
     "iopub.status.idle": "2025-03-25T10:24:35.736825Z",
     "shell.execute_reply": "2025-03-25T10:24:35.735876Z"
    },
    "papermill": {
     "duration": 0.009315,
     "end_time": "2025-03-25T10:24:35.738014",
     "exception": false,
     "start_time": "2025-03-25T10:24:35.728699",
     "status": "completed"
    },
    "tags": []
   },
   "outputs": [
    {
     "name": "stdout",
     "output_type": "stream",
     "text": [
      "137198\n",
      "29402\n"
     ]
    }
   ],
   "source": [
    "print(train_count)\n",
    "# print(test_count)\n",
    "print(val_count)"
   ]
  },
  {
   "cell_type": "code",
   "execution_count": 11,
   "id": "e0d60195",
   "metadata": {
    "execution": {
     "iopub.execute_input": "2025-03-25T10:24:35.746973Z",
     "iopub.status.busy": "2025-03-25T10:24:35.746760Z",
     "iopub.status.idle": "2025-03-25T10:24:35.749840Z",
     "shell.execute_reply": "2025-03-25T10:24:35.749262Z"
    },
    "papermill": {
     "duration": 0.008968,
     "end_time": "2025-03-25T10:24:35.751115",
     "exception": false,
     "start_time": "2025-03-25T10:24:35.742147",
     "status": "completed"
    },
    "tags": []
   },
   "outputs": [],
   "source": [
    "import torch\n",
    "from torch import nn\n",
    "from torch.nn import Parameter\n",
    "import torch.nn.functional as F"
   ]
  },
  {
   "cell_type": "code",
   "execution_count": 12,
   "id": "cd3f5e4e",
   "metadata": {
    "execution": {
     "iopub.execute_input": "2025-03-25T10:24:35.760073Z",
     "iopub.status.busy": "2025-03-25T10:24:35.759864Z",
     "iopub.status.idle": "2025-03-25T10:24:35.762917Z",
     "shell.execute_reply": "2025-03-25T10:24:35.762304Z"
    },
    "papermill": {
     "duration": 0.008806,
     "end_time": "2025-03-25T10:24:35.764062",
     "exception": false,
     "start_time": "2025-03-25T10:24:35.755256",
     "status": "completed"
    },
    "tags": []
   },
   "outputs": [],
   "source": [
    "# Define the parameters\n",
    "input_size = 20\n",
    "hidden_size = 256\n",
    "num_layers = 2\n",
    "num_classes = 2\n",
    "# drop_amount = 0.25  # You can choose an appropriate dropout rate"
   ]
  },
  {
   "cell_type": "code",
   "execution_count": 13,
   "id": "8a05af72",
   "metadata": {
    "execution": {
     "iopub.execute_input": "2025-03-25T10:24:35.772946Z",
     "iopub.status.busy": "2025-03-25T10:24:35.772732Z",
     "iopub.status.idle": "2025-03-25T10:24:35.775869Z",
     "shell.execute_reply": "2025-03-25T10:24:35.775196Z"
    },
    "papermill": {
     "duration": 0.008984,
     "end_time": "2025-03-25T10:24:35.777103",
     "exception": false,
     "start_time": "2025-03-25T10:24:35.768119",
     "status": "completed"
    },
    "tags": []
   },
   "outputs": [],
   "source": [
    "import torch\n",
    "import torch.nn as nn\n",
    "import torch.optim as optim"
   ]
  },
  {
   "cell_type": "code",
   "execution_count": 14,
   "id": "6ca76067",
   "metadata": {
    "execution": {
     "iopub.execute_input": "2025-03-25T10:24:35.785952Z",
     "iopub.status.busy": "2025-03-25T10:24:35.785747Z",
     "iopub.status.idle": "2025-03-25T10:24:55.119054Z",
     "shell.execute_reply": "2025-03-25T10:24:55.118363Z"
    },
    "papermill": {
     "duration": 19.339407,
     "end_time": "2025-03-25T10:24:55.120655",
     "exception": false,
     "start_time": "2025-03-25T10:24:35.781248",
     "status": "completed"
    },
    "tags": []
   },
   "outputs": [],
   "source": [
    "import torch \n",
    "import torch.nn as nn\n",
    "import torch.nn.functional as F\n",
    "from torch.autograd import Variable\n",
    "from torch.utils.data import Dataset, DataLoader\n",
    "import os, pathlib, glob, random\n",
    "import numpy as np\n",
    "import matplotlib.pyplot as plt \n",
    "import seaborn as sns\n",
    "from sklearn.metrics import confusion_matrix\n",
    "from transformers import WhisperProcessor, WhisperForConditionalGeneration\n",
    "from datasets import load_dataset\n",
    "from transformers.models.whisper.modeling_whisper import WhisperModel, WhisperEncoder\n",
    "from transformers.models.whisper.configuration_whisper import WhisperConfig\n",
    "from typing import Optional, Tuple, Union\n",
    "import torch\n",
    "import librosa \n",
    "import matplotlib.pyplot as plt\n",
    "import numpy as np\n",
    "import os, glob, pickle\n",
    "import scipy.io as sio\n",
    "from tqdm import tqdm\n",
    "import multiprocessing as mp \n",
    "import torch.optim as optim"
   ]
  },
  {
   "cell_type": "code",
   "execution_count": 15,
   "id": "9907fe04",
   "metadata": {
    "execution": {
     "iopub.execute_input": "2025-03-25T10:24:55.130501Z",
     "iopub.status.busy": "2025-03-25T10:24:55.129940Z",
     "iopub.status.idle": "2025-03-25T10:24:55.133317Z",
     "shell.execute_reply": "2025-03-25T10:24:55.132654Z"
    },
    "papermill": {
     "duration": 0.009168,
     "end_time": "2025-03-25T10:24:55.134444",
     "exception": false,
     "start_time": "2025-03-25T10:24:55.125276",
     "status": "completed"
    },
    "tags": []
   },
   "outputs": [],
   "source": [
    "# BiLSTM"
   ]
  },
  {
   "cell_type": "code",
   "execution_count": 16,
   "id": "21ae91ce",
   "metadata": {
    "execution": {
     "iopub.execute_input": "2025-03-25T10:24:55.143326Z",
     "iopub.status.busy": "2025-03-25T10:24:55.143063Z",
     "iopub.status.idle": "2025-03-25T10:24:55.149049Z",
     "shell.execute_reply": "2025-03-25T10:24:55.148415Z"
    },
    "papermill": {
     "duration": 0.011736,
     "end_time": "2025-03-25T10:24:55.150275",
     "exception": false,
     "start_time": "2025-03-25T10:24:55.138539",
     "status": "completed"
    },
    "tags": []
   },
   "outputs": [],
   "source": [
    "drop_amount = 0.255\n",
    "\n",
    "class BiLSTMClassifier(nn.Module):\n",
    "    def __init__(self, input_size, hidden_size, num_layers, num_classes):\n",
    "        super(BiLSTMClassifier, self).__init__()\n",
    "        self.hidden_size = hidden_size\n",
    "        self.num_layers = num_layers\n",
    "        self.lstm = nn.LSTM(input_size, hidden_size, num_layers, batch_first=True, bidirectional=True)\n",
    "        self.dropout = nn.Dropout(p=drop_amount)\n",
    "        self.fc = nn.Linear(hidden_size*2, num_classes)\n",
    "\n",
    "    def forward(self, x):\n",
    "        h0 = torch.zeros(self.num_layers*2, x.size(0), self.hidden_size).to(device=x.device, dtype=torch.double)\n",
    "        c0 = torch.zeros(self.num_layers*2, x.size(0), self.hidden_size).to(device=x.device, dtype=torch.double)\n",
    "        out, _ = self.lstm(x, (h0, c0))\n",
    "        out = self.dropout(out)\n",
    "        # Extract the output of the last time step from both directions\n",
    "        last_hidden_state = torch.cat((out[:, -1, :self.hidden_size], out[:, 0, self.hidden_size:]), dim=1)\n",
    "        output = self.fc(last_hidden_state)\n",
    "        return output"
   ]
  },
  {
   "cell_type": "code",
   "execution_count": 17,
   "id": "b9715dff",
   "metadata": {
    "execution": {
     "iopub.execute_input": "2025-03-25T10:24:55.159168Z",
     "iopub.status.busy": "2025-03-25T10:24:55.158960Z",
     "iopub.status.idle": "2025-03-25T10:24:55.161998Z",
     "shell.execute_reply": "2025-03-25T10:24:55.161382Z"
    },
    "papermill": {
     "duration": 0.008659,
     "end_time": "2025-03-25T10:24:55.163098",
     "exception": false,
     "start_time": "2025-03-25T10:24:55.154439",
     "status": "completed"
    },
    "tags": []
   },
   "outputs": [],
   "source": [
    "batch_size = 32\n",
    "output_nodes = 2\n",
    "learning_rate = 0.003"
   ]
  },
  {
   "cell_type": "code",
   "execution_count": 18,
   "id": "084b294c",
   "metadata": {
    "execution": {
     "iopub.execute_input": "2025-03-25T10:24:55.171830Z",
     "iopub.status.busy": "2025-03-25T10:24:55.171620Z",
     "iopub.status.idle": "2025-03-25T10:24:55.525376Z",
     "shell.execute_reply": "2025-03-25T10:24:55.524303Z"
    },
    "papermill": {
     "duration": 0.35953,
     "end_time": "2025-03-25T10:24:55.526682",
     "exception": false,
     "start_time": "2025-03-25T10:24:55.167152",
     "status": "completed"
    },
    "tags": []
   },
   "outputs": [
    {
     "name": "stdout",
     "output_type": "stream",
     "text": [
      "BiLSTMClassifier(\n",
      "  (lstm): LSTM(20, 256, num_layers=2, batch_first=True, bidirectional=True)\n",
      "  (dropout): Dropout(p=0.255, inplace=False)\n",
      "  (fc): Linear(in_features=512, out_features=2, bias=True)\n",
      ")\n"
     ]
    }
   ],
   "source": [
    "model = BiLSTMClassifier(input_size, hidden_size, num_layers, num_classes)\n",
    "model.to(device, dtype=torch.double)\n",
    "loss_function = nn.CrossEntropyLoss()\n",
    "optimizer = optim.Adam(model.parameters(), lr=learning_rate)\n",
    "print(model)"
   ]
  },
  {
   "cell_type": "code",
   "execution_count": 19,
   "id": "a252600e",
   "metadata": {
    "execution": {
     "iopub.execute_input": "2025-03-25T10:24:55.536214Z",
     "iopub.status.busy": "2025-03-25T10:24:55.535966Z",
     "iopub.status.idle": "2025-03-25T10:24:55.539969Z",
     "shell.execute_reply": "2025-03-25T10:24:55.539144Z"
    },
    "papermill": {
     "duration": 0.010046,
     "end_time": "2025-03-25T10:24:55.541251",
     "exception": false,
     "start_time": "2025-03-25T10:24:55.531205",
     "status": "completed"
    },
    "tags": []
   },
   "outputs": [
    {
     "name": "stdout",
     "output_type": "stream",
     "text": [
      "BiLSTMClassifier(\n",
      "  (lstm): LSTM(20, 256, num_layers=2, batch_first=True, bidirectional=True)\n",
      "  (dropout): Dropout(p=0.255, inplace=False)\n",
      "  (fc): Linear(in_features=512, out_features=2, bias=True)\n",
      ")\n"
     ]
    }
   ],
   "source": [
    "print(model)"
   ]
  },
  {
   "cell_type": "code",
   "execution_count": 20,
   "id": "84060f83",
   "metadata": {
    "execution": {
     "iopub.execute_input": "2025-03-25T10:24:55.551181Z",
     "iopub.status.busy": "2025-03-25T10:24:55.550935Z",
     "iopub.status.idle": "2025-03-25T17:12:29.409460Z",
     "shell.execute_reply": "2025-03-25T17:12:29.408551Z"
    },
    "papermill": {
     "duration": 24453.865174,
     "end_time": "2025-03-25T17:12:29.410844",
     "exception": false,
     "start_time": "2025-03-25T10:24:55.545670",
     "status": "completed"
    },
    "tags": []
   },
   "outputs": [
    {
     "name": "stdout",
     "output_type": "stream",
     "text": [
      "\n",
      "Epoch 1/15 - Training...\n"
     ]
    },
    {
     "name": "stderr",
     "output_type": "stream",
     "text": [
      "Training Batches: 100%|██████████| 4288/4288 [31:19<00:00,  2.28it/s]\n"
     ]
    },
    {
     "name": "stdout",
     "output_type": "stream",
     "text": [
      "Epoch 1/15 - Validation...\n"
     ]
    },
    {
     "name": "stderr",
     "output_type": "stream",
     "text": [
      "Validation Batches: 100%|██████████| 919/919 [04:07<00:00,  3.71it/s]\n"
     ]
    },
    {
     "name": "stdout",
     "output_type": "stream",
     "text": [
      "Epoch: 1/15   Train Loss: 0.3537   Train Accuracy: 0.8347   Validation Accuracy: 0.9493\n",
      "\n",
      "Epoch 2/15 - Training...\n"
     ]
    },
    {
     "name": "stderr",
     "output_type": "stream",
     "text": [
      "Training Batches: 100%|██████████| 4288/4288 [22:19<00:00,  3.20it/s]\n"
     ]
    },
    {
     "name": "stdout",
     "output_type": "stream",
     "text": [
      "Epoch 2/15 - Validation...\n"
     ]
    },
    {
     "name": "stderr",
     "output_type": "stream",
     "text": [
      "Validation Batches: 100%|██████████| 919/919 [02:14<00:00,  6.86it/s]\n"
     ]
    },
    {
     "name": "stdout",
     "output_type": "stream",
     "text": [
      "Epoch: 2/15   Train Loss: 0.1316   Train Accuracy: 0.9530   Validation Accuracy: 0.9586\n",
      "\n",
      "Epoch 3/15 - Training...\n"
     ]
    },
    {
     "name": "stderr",
     "output_type": "stream",
     "text": [
      "Training Batches: 100%|██████████| 4288/4288 [22:13<00:00,  3.22it/s]\n"
     ]
    },
    {
     "name": "stdout",
     "output_type": "stream",
     "text": [
      "Epoch 3/15 - Validation...\n"
     ]
    },
    {
     "name": "stderr",
     "output_type": "stream",
     "text": [
      "Validation Batches: 100%|██████████| 919/919 [02:13<00:00,  6.89it/s]\n"
     ]
    },
    {
     "name": "stdout",
     "output_type": "stream",
     "text": [
      "Epoch: 3/15   Train Loss: 0.1033   Train Accuracy: 0.9627   Validation Accuracy: 0.9682\n",
      "\n",
      "Epoch 4/15 - Training...\n"
     ]
    },
    {
     "name": "stderr",
     "output_type": "stream",
     "text": [
      "Training Batches: 100%|██████████| 4288/4288 [22:17<00:00,  3.21it/s]\n"
     ]
    },
    {
     "name": "stdout",
     "output_type": "stream",
     "text": [
      "Epoch 4/15 - Validation...\n"
     ]
    },
    {
     "name": "stderr",
     "output_type": "stream",
     "text": [
      "Validation Batches: 100%|██████████| 919/919 [02:16<00:00,  6.72it/s]\n"
     ]
    },
    {
     "name": "stdout",
     "output_type": "stream",
     "text": [
      "Epoch: 4/15   Train Loss: 0.0896   Train Accuracy: 0.9675   Validation Accuracy: 0.9599\n",
      "\n",
      "Epoch 5/15 - Training...\n"
     ]
    },
    {
     "name": "stderr",
     "output_type": "stream",
     "text": [
      "Training Batches: 100%|██████████| 4288/4288 [23:06<00:00,  3.09it/s]\n"
     ]
    },
    {
     "name": "stdout",
     "output_type": "stream",
     "text": [
      "Epoch 5/15 - Validation...\n"
     ]
    },
    {
     "name": "stderr",
     "output_type": "stream",
     "text": [
      "Validation Batches: 100%|██████████| 919/919 [02:28<00:00,  6.17it/s]\n"
     ]
    },
    {
     "name": "stdout",
     "output_type": "stream",
     "text": [
      "Epoch: 5/15   Train Loss: 0.0820   Train Accuracy: 0.9714   Validation Accuracy: 0.9686\n",
      "\n",
      "Epoch 6/15 - Training...\n"
     ]
    },
    {
     "name": "stderr",
     "output_type": "stream",
     "text": [
      "Training Batches: 100%|██████████| 4288/4288 [23:22<00:00,  3.06it/s]\n"
     ]
    },
    {
     "name": "stdout",
     "output_type": "stream",
     "text": [
      "Epoch 6/15 - Validation...\n"
     ]
    },
    {
     "name": "stderr",
     "output_type": "stream",
     "text": [
      "Validation Batches: 100%|██████████| 919/919 [02:51<00:00,  5.36it/s]\n"
     ]
    },
    {
     "name": "stdout",
     "output_type": "stream",
     "text": [
      "Epoch: 6/15   Train Loss: 0.0752   Train Accuracy: 0.9736   Validation Accuracy: 0.9706\n",
      "\n",
      "Epoch 7/15 - Training...\n"
     ]
    },
    {
     "name": "stderr",
     "output_type": "stream",
     "text": [
      "Training Batches: 100%|██████████| 4288/4288 [23:23<00:00,  3.06it/s]\n"
     ]
    },
    {
     "name": "stdout",
     "output_type": "stream",
     "text": [
      "Epoch 7/15 - Validation...\n"
     ]
    },
    {
     "name": "stderr",
     "output_type": "stream",
     "text": [
      "Validation Batches: 100%|██████████| 919/919 [02:29<00:00,  6.15it/s]\n"
     ]
    },
    {
     "name": "stdout",
     "output_type": "stream",
     "text": [
      "Epoch: 7/15   Train Loss: 0.0719   Train Accuracy: 0.9746   Validation Accuracy: 0.9773\n",
      "\n",
      "Epoch 8/15 - Training...\n"
     ]
    },
    {
     "name": "stderr",
     "output_type": "stream",
     "text": [
      "Training Batches: 100%|██████████| 4288/4288 [24:02<00:00,  2.97it/s]\n"
     ]
    },
    {
     "name": "stdout",
     "output_type": "stream",
     "text": [
      "Epoch 8/15 - Validation...\n"
     ]
    },
    {
     "name": "stderr",
     "output_type": "stream",
     "text": [
      "Validation Batches: 100%|██████████| 919/919 [03:04<00:00,  4.98it/s]\n"
     ]
    },
    {
     "name": "stdout",
     "output_type": "stream",
     "text": [
      "Epoch: 8/15   Train Loss: 0.0677   Train Accuracy: 0.9760   Validation Accuracy: 0.9784\n",
      "\n",
      "Epoch 9/15 - Training...\n"
     ]
    },
    {
     "name": "stderr",
     "output_type": "stream",
     "text": [
      "Training Batches: 100%|██████████| 4288/4288 [24:44<00:00,  2.89it/s]\n"
     ]
    },
    {
     "name": "stdout",
     "output_type": "stream",
     "text": [
      "Epoch 9/15 - Validation...\n"
     ]
    },
    {
     "name": "stderr",
     "output_type": "stream",
     "text": [
      "Validation Batches: 100%|██████████| 919/919 [03:01<00:00,  5.05it/s]\n"
     ]
    },
    {
     "name": "stdout",
     "output_type": "stream",
     "text": [
      "Epoch: 9/15   Train Loss: 0.0637   Train Accuracy: 0.9776   Validation Accuracy: 0.9780\n",
      "\n",
      "Epoch 10/15 - Training...\n"
     ]
    },
    {
     "name": "stderr",
     "output_type": "stream",
     "text": [
      "Training Batches: 100%|██████████| 4288/4288 [24:48<00:00,  2.88it/s]\n"
     ]
    },
    {
     "name": "stdout",
     "output_type": "stream",
     "text": [
      "Epoch 10/15 - Validation...\n"
     ]
    },
    {
     "name": "stderr",
     "output_type": "stream",
     "text": [
      "Validation Batches: 100%|██████████| 919/919 [02:45<00:00,  5.55it/s]\n"
     ]
    },
    {
     "name": "stdout",
     "output_type": "stream",
     "text": [
      "Epoch: 10/15   Train Loss: 0.0636   Train Accuracy: 0.9776   Validation Accuracy: 0.9782\n",
      "\n",
      "Epoch 11/15 - Training...\n"
     ]
    },
    {
     "name": "stderr",
     "output_type": "stream",
     "text": [
      "Training Batches: 100%|██████████| 4288/4288 [24:54<00:00,  2.87it/s]\n"
     ]
    },
    {
     "name": "stdout",
     "output_type": "stream",
     "text": [
      "Epoch 11/15 - Validation...\n"
     ]
    },
    {
     "name": "stderr",
     "output_type": "stream",
     "text": [
      "Validation Batches: 100%|██████████| 919/919 [02:18<00:00,  6.62it/s]\n"
     ]
    },
    {
     "name": "stdout",
     "output_type": "stream",
     "text": [
      "Epoch: 11/15   Train Loss: 0.0626   Train Accuracy: 0.9780   Validation Accuracy: 0.9784\n",
      "\n",
      "Epoch 12/15 - Training...\n"
     ]
    },
    {
     "name": "stderr",
     "output_type": "stream",
     "text": [
      "Training Batches: 100%|██████████| 4288/4288 [24:57<00:00,  2.86it/s]\n"
     ]
    },
    {
     "name": "stdout",
     "output_type": "stream",
     "text": [
      "Epoch 12/15 - Validation...\n"
     ]
    },
    {
     "name": "stderr",
     "output_type": "stream",
     "text": [
      "Validation Batches: 100%|██████████| 919/919 [02:39<00:00,  5.78it/s]\n"
     ]
    },
    {
     "name": "stdout",
     "output_type": "stream",
     "text": [
      "Epoch: 12/15   Train Loss: 0.0595   Train Accuracy: 0.9791   Validation Accuracy: 0.9757\n",
      "\n",
      "Epoch 13/15 - Training...\n"
     ]
    },
    {
     "name": "stderr",
     "output_type": "stream",
     "text": [
      "Training Batches: 100%|██████████| 4288/4288 [24:53<00:00,  2.87it/s]\n"
     ]
    },
    {
     "name": "stdout",
     "output_type": "stream",
     "text": [
      "Epoch 13/15 - Validation...\n"
     ]
    },
    {
     "name": "stderr",
     "output_type": "stream",
     "text": [
      "Validation Batches: 100%|██████████| 919/919 [02:52<00:00,  5.34it/s]\n"
     ]
    },
    {
     "name": "stdout",
     "output_type": "stream",
     "text": [
      "Epoch: 13/15   Train Loss: 0.0589   Train Accuracy: 0.9793   Validation Accuracy: 0.9816\n",
      "\n",
      "Epoch 14/15 - Training...\n"
     ]
    },
    {
     "name": "stderr",
     "output_type": "stream",
     "text": [
      "Training Batches: 100%|██████████| 4288/4288 [24:39<00:00,  2.90it/s]\n"
     ]
    },
    {
     "name": "stdout",
     "output_type": "stream",
     "text": [
      "Epoch 14/15 - Validation...\n"
     ]
    },
    {
     "name": "stderr",
     "output_type": "stream",
     "text": [
      "Validation Batches: 100%|██████████| 919/919 [02:56<00:00,  5.20it/s]\n"
     ]
    },
    {
     "name": "stdout",
     "output_type": "stream",
     "text": [
      "Epoch: 14/15   Train Loss: 0.0571   Train Accuracy: 0.9800   Validation Accuracy: 0.9824\n",
      "\n",
      "Epoch 15/15 - Training...\n"
     ]
    },
    {
     "name": "stderr",
     "output_type": "stream",
     "text": [
      "Training Batches: 100%|██████████| 4288/4288 [25:12<00:00,  2.84it/s]\n"
     ]
    },
    {
     "name": "stdout",
     "output_type": "stream",
     "text": [
      "Epoch 15/15 - Validation...\n"
     ]
    },
    {
     "name": "stderr",
     "output_type": "stream",
     "text": [
      "Validation Batches: 100%|██████████| 919/919 [02:58<00:00,  5.15it/s]"
     ]
    },
    {
     "name": "stdout",
     "output_type": "stream",
     "text": [
      "Epoch: 15/15   Train Loss: 0.0576   Train Accuracy: 0.9803   Validation Accuracy: 0.9817\n",
      "\n",
      "Maximum Validation Accuracy: 0.982416162165839\n",
      "Finished Training and Validation\n"
     ]
    },
    {
     "name": "stderr",
     "output_type": "stream",
     "text": [
      "\n"
     ]
    }
   ],
   "source": [
    "from tqdm import tqdm\n",
    "import torch\n",
    "from torch.autograd import Variable\n",
    "\n",
    "# Model training and testing\n",
    "n_total_steps = len(train_dataloader)\n",
    "train_accuracy_list = []\n",
    "train_loss_list = []\n",
    "val_accuracy_list = []\n",
    "max_acc = 0\n",
    "num_epochs = 15\n",
    "pred_labels = []\n",
    "act_labels = []\n",
    "\n",
    "for epoch in range(num_epochs):\n",
    "    \n",
    "    # Training phase\n",
    "    model.train()\n",
    "    train_accuracy = 0.0\n",
    "    train_loss = 0.0\n",
    "    \n",
    "    print(f\"\\nEpoch {epoch + 1}/{num_epochs} - Training...\")\n",
    "    \n",
    "    # Use tqdm for progress bar in training loop\n",
    "    for batch_idx, (images, labels) in enumerate(tqdm(train_dataloader, desc=\"Training Batches\")):\n",
    "        if torch.cuda.is_available():\n",
    "            images = Variable(images.cuda())\n",
    "            labels = Variable(labels.cuda())\n",
    "        \n",
    "        optimizer.zero_grad()\n",
    "        outputs = model(images)\n",
    "        loss = loss_function(outputs, labels)\n",
    "        loss.backward()\n",
    "        optimizer.step()\n",
    "\n",
    "        train_loss += loss.cpu().data * images.size(0)\n",
    "        _, prediction = torch.max(outputs.data, 1)\n",
    "        train_accuracy += int(torch.sum(prediction == labels.data))\n",
    "    \n",
    "    train_accuracy = train_accuracy / train_count\n",
    "    train_loss = train_loss / train_count\n",
    "    \n",
    "    train_accuracy_list.append(train_accuracy)\n",
    "    train_loss_list.append(train_loss)\n",
    "\n",
    "    # Validation phase\n",
    "    model.eval()\n",
    "    val_accuracy = 0.0\n",
    "    pred = []\n",
    "    lab = []\n",
    "    \n",
    "    print(f\"Epoch {epoch + 1}/{num_epochs} - Validation...\")\n",
    "    \n",
    "    # Use tqdm for progress bar in validation loop\n",
    "    for i, (images, labels) in enumerate(tqdm(val_dataloader, desc=\"Validation Batches\")):\n",
    "        if torch.cuda.is_available():\n",
    "            images = Variable(images.cuda())\n",
    "            labels = Variable(labels.cuda())\n",
    "        \n",
    "        outputs = model(images)\n",
    "        _, prediction = torch.max(outputs.data, 1)\n",
    "        val_accuracy += int(torch.sum(prediction == labels.data))\n",
    "        \n",
    "        pred.extend(prediction.tolist())\n",
    "        lab.extend(labels.tolist())\n",
    "    \n",
    "    val_accuracy = val_accuracy / val_count\n",
    "    val_accuracy_list.append(val_accuracy)\n",
    "    \n",
    "    # Save best model\n",
    "    if max_acc < val_accuracy:\n",
    "        max_acc = val_accuracy\n",
    "        pred_labels = pred\n",
    "        actual_labels = lab\n",
    "        torch.save(model, \"best_accuracy_model_BiLSTM.pth\")\n",
    "    \n",
    "    print(f'Epoch: {epoch + 1}/{num_epochs}   '\n",
    "          f'Train Loss: {train_loss:.4f}   '\n",
    "          f'Train Accuracy: {train_accuracy:.4f}   '\n",
    "          f'Validation Accuracy: {val_accuracy:.4f}')\n",
    "\n",
    "print('\\nMaximum Validation Accuracy:', max_acc)\n",
    "print('Finished Training and Validation')\n"
   ]
  },
  {
   "cell_type": "code",
   "execution_count": 21,
   "id": "3d9f4a76",
   "metadata": {
    "execution": {
     "iopub.execute_input": "2025-03-25T17:12:37.075088Z",
     "iopub.status.busy": "2025-03-25T17:12:37.074807Z",
     "iopub.status.idle": "2025-03-25T17:12:37.078021Z",
     "shell.execute_reply": "2025-03-25T17:12:37.077343Z"
    },
    "papermill": {
     "duration": 3.826168,
     "end_time": "2025-03-25T17:12:37.079285",
     "exception": false,
     "start_time": "2025-03-25T17:12:33.253117",
     "status": "completed"
    },
    "tags": []
   },
   "outputs": [],
   "source": [
    "# # Load the best model\n",
    "# best_model = torch.load(\"best_accuracy_model_BiLSTM.pth\")\n",
    "\n",
    "# # Put the best_model in evaluation mode\n",
    "# best_model.eval()\n",
    "\n",
    "# # Initialize variables to store results\n",
    "# testing_accuracy = 0.0\n",
    "# pred_labels = []\n",
    "# act_labels = []\n",
    "\n",
    "# # Pass validation data through the best model\n",
    "# for i, (images, labels) in enumerate(test_dataloader):\n",
    "#     if torch.cuda.is_available():\n",
    "#         images = Variable(images.cuda())\n",
    "#         labels = Variable(labels.cuda())\n",
    "    \n",
    "#     outputs = best_model(images)\n",
    "#     _, prediction = torch.max(outputs.data, 1)\n",
    "    \n",
    "#     testing_accuracy += int(torch.sum(prediction == labels.data))\n",
    "    \n",
    "#     pred_labels.extend(prediction.tolist())\n",
    "#     act_labels.extend(labels.tolist())\n",
    "\n",
    "# # Calculate validation accuracy\n",
    "# testing_accuracy = testing_accuracy / len(test_dataloader.dataset)\n",
    "\n",
    "# # Print the validation accuracy\n",
    "# print(\"testing Accuracy:\", testing_accuracy)"
   ]
  },
  {
   "cell_type": "code",
   "execution_count": 22,
   "id": "fbd14102",
   "metadata": {
    "execution": {
     "iopub.execute_input": "2025-03-25T17:12:44.909630Z",
     "iopub.status.busy": "2025-03-25T17:12:44.909322Z",
     "iopub.status.idle": "2025-03-25T17:12:44.912484Z",
     "shell.execute_reply": "2025-03-25T17:12:44.911815Z"
    },
    "papermill": {
     "duration": 3.972871,
     "end_time": "2025-03-25T17:12:44.913615",
     "exception": false,
     "start_time": "2025-03-25T17:12:40.940744",
     "status": "completed"
    },
    "tags": []
   },
   "outputs": [],
   "source": [
    "# # Calculate the confusion matrix\n",
    "# import seaborn as sns\n",
    "# conf_mat = confusion_matrix(act_labels, pred_labels)\n",
    "# # Plot confusion matrix heat map\n",
    "# sns.heatmap(conf_mat, cmap=\"flare\",annot=True, fmt = \"g\", \n",
    "#             cbar_kws={\"label\":\"color bar\"},\n",
    "#             xticklabels=train_dataset.classes,\n",
    "#             yticklabels=train_dataset.classes)\n",
    "# plt.xlabel(\"Predicted\")\n",
    "# plt.ylabel(\"Actual\")\n",
    "# plt.title(\"Confusion Matrix\")\n",
    "# plt.savefig(\"ConfusionMatrix_BiLSTM.png\")\n",
    "# plt.show()\n",
    "# from sklearn.metrics import f1_score\n",
    "# f1_score = f1_score(pred_labels, act_labels, average='macro')\n",
    "# print('F1 Score : ', f1_score)\n"
   ]
  },
  {
   "cell_type": "code",
   "execution_count": 23,
   "id": "7fabfda7",
   "metadata": {
    "execution": {
     "iopub.execute_input": "2025-03-25T17:12:52.708888Z",
     "iopub.status.busy": "2025-03-25T17:12:52.708577Z",
     "iopub.status.idle": "2025-03-25T17:12:52.712123Z",
     "shell.execute_reply": "2025-03-25T17:12:52.711315Z"
    },
    "papermill": {
     "duration": 3.987116,
     "end_time": "2025-03-25T17:12:52.713431",
     "exception": false,
     "start_time": "2025-03-25T17:12:48.726315",
     "status": "completed"
    },
    "tags": []
   },
   "outputs": [],
   "source": [
    "# import numpy as np\n",
    "# import sklearn.metrics\n",
    "\n",
    "# \"\"\"\n",
    "# Python compute equal error rate (eer)\n",
    "# ONLY tested on binary classification\n",
    "\n",
    "# :param label: ground-truth label, should be a 1-d list or np.array, each element represents the ground-truth label of one sample\n",
    "# :param pred: model prediction, should be a 1-d list or np.array, each element represents the model prediction of one sample\n",
    "# :param positive_label: the class that is viewed as positive class when computing EER\n",
    "# :return: equal error rate (EER)\n",
    "# \"\"\"\n",
    "# def compute_eer(label, pred):\n",
    "#     # all fpr, tpr, fnr, fnr, threshold are lists (in the format of np.array)\n",
    "#     fpr, tpr, threshold = sklearn.metrics.roc_curve(label, pred)\n",
    "#     fnr = 1 - tpr\n",
    "\n",
    "#     # the threshold of fnr == fpr\n",
    "#     eer_threshold = threshold[np.nanargmin(np.absolute((fnr - fpr)))]\n",
    "\n",
    "#     # theoretically eer from fpr and eer from fnr should be identical but they can be slightly differ in reality\n",
    "#     eer_1 = fpr[np.nanargmin(np.absolute((fnr - fpr)))]\n",
    "#     eer_2 = fnr[np.nanargmin(np.absolute((fnr - fpr)))]\n",
    "\n",
    "#     # return the mean of eer from fpr and from fnr\n",
    "#     eer = (eer_1 + eer_2) / 2\n",
    "#     return eer\n",
    "\n",
    "# eer = compute_eer(act_labels, pred_labels)\n",
    "# print('The equal error rate is {:.3f}'.format(eer))"
   ]
  }
 ],
 "metadata": {
  "kaggle": {
   "accelerator": "gpu",
   "dataSources": [
    {
     "datasetId": 6961676,
     "sourceId": 11157532,
     "sourceType": "datasetVersion"
    }
   ],
   "dockerImageVersionId": 30919,
   "isGpuEnabled": true,
   "isInternetEnabled": true,
   "language": "python",
   "sourceType": "notebook"
  },
  "kernelspec": {
   "display_name": "Python 3",
   "language": "python",
   "name": "python3"
  },
  "language_info": {
   "codemirror_mode": {
    "name": "ipython",
    "version": 3
   },
   "file_extension": ".py",
   "mimetype": "text/x-python",
   "name": "python",
   "nbconvert_exporter": "python",
   "pygments_lexer": "ipython3",
   "version": "3.10.12"
  },
  "papermill": {
   "default_parameters": {},
   "duration": 24514.743651,
   "end_time": "2025-03-25T17:12:59.882636",
   "environment_variables": {},
   "exception": null,
   "input_path": "__notebook__.ipynb",
   "output_path": "__notebook__.ipynb",
   "parameters": {},
   "start_time": "2025-03-25T10:24:25.138985",
   "version": "2.4.0"
  }
 },
 "nbformat": 4,
 "nbformat_minor": 5
}
