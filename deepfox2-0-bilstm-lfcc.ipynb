{
 "cells": [
  {
   "cell_type": "code",
   "execution_count": 1,
   "id": "be7d051a",
   "metadata": {
    "execution": {
     "iopub.execute_input": "2025-04-15T03:39:24.480086Z",
     "iopub.status.busy": "2025-04-15T03:39:24.479792Z",
     "iopub.status.idle": "2025-04-15T03:39:29.792741Z",
     "shell.execute_reply": "2025-04-15T03:39:29.791808Z"
    },
    "papermill": {
     "duration": 5.320462,
     "end_time": "2025-04-15T03:39:29.794304",
     "exception": false,
     "start_time": "2025-04-15T03:39:24.473842",
     "status": "completed"
    },
    "tags": []
   },
   "outputs": [],
   "source": [
    "import torch \n",
    "import torch.nn as nn\n",
    "import torch.nn.functional as F\n",
    "from torch.autograd import Variable\n",
    "from torch.utils.data import Dataset, DataLoader\n",
    "import os, pathlib, glob, random\n",
    "import numpy as np\n",
    "import matplotlib.pyplot as plt \n",
    "from sklearn.metrics import confusion_matrix\n",
    "import scipy\n",
    "from scipy import io"
   ]
  },
  {
   "cell_type": "code",
   "execution_count": 2,
   "id": "6b0c6012",
   "metadata": {
    "execution": {
     "iopub.execute_input": "2025-04-15T03:39:29.804177Z",
     "iopub.status.busy": "2025-04-15T03:39:29.803838Z",
     "iopub.status.idle": "2025-04-15T03:39:29.856252Z",
     "shell.execute_reply": "2025-04-15T03:39:29.855221Z"
    },
    "papermill": {
     "duration": 0.058617,
     "end_time": "2025-04-15T03:39:29.857634",
     "exception": false,
     "start_time": "2025-04-15T03:39:29.799017",
     "status": "completed"
    },
    "tags": []
   },
   "outputs": [
    {
     "name": "stdout",
     "output_type": "stream",
     "text": [
      "cuda:0\n"
     ]
    }
   ],
   "source": [
    "device = torch.device('cuda:0' if torch.cuda.is_available() else 'cpu')\n",
    "print(device)"
   ]
  },
  {
   "cell_type": "code",
   "execution_count": 3,
   "id": "db064bdc",
   "metadata": {
    "execution": {
     "iopub.execute_input": "2025-04-15T03:39:29.866455Z",
     "iopub.status.busy": "2025-04-15T03:39:29.866232Z",
     "iopub.status.idle": "2025-04-15T03:39:29.869649Z",
     "shell.execute_reply": "2025-04-15T03:39:29.868853Z"
    },
    "papermill": {
     "duration": 0.009066,
     "end_time": "2025-04-15T03:39:29.870891",
     "exception": false,
     "start_time": "2025-04-15T03:39:29.861825",
     "status": "completed"
    },
    "tags": []
   },
   "outputs": [],
   "source": [
    "batch_size = 32\n",
    "output_nodes = 2\n",
    "learning_rate = 0.003"
   ]
  },
  {
   "cell_type": "code",
   "execution_count": 4,
   "id": "a9653c58",
   "metadata": {
    "execution": {
     "iopub.execute_input": "2025-04-15T03:39:29.879727Z",
     "iopub.status.busy": "2025-04-15T03:39:29.879466Z",
     "iopub.status.idle": "2025-04-15T03:39:29.882653Z",
     "shell.execute_reply": "2025-04-15T03:39:29.881837Z"
    },
    "papermill": {
     "duration": 0.008947,
     "end_time": "2025-04-15T03:39:29.884000",
     "exception": false,
     "start_time": "2025-04-15T03:39:29.875053",
     "status": "completed"
    },
    "tags": []
   },
   "outputs": [],
   "source": [
    "train_data_path = r\"/kaggle/input/gfcc-source-tracking-t2/GFCC_T2/train\"\n",
    "# test_data_path =r\"/kaggle/input/t1-lfcc-mladdc/LFCC_T1/test\"\n",
    "validation_data_path= r\"/kaggle/input/gfcc-source-tracking-t2/GFCC_T2/val\""
   ]
  },
  {
   "cell_type": "code",
   "execution_count": 5,
   "id": "92e5ad7a",
   "metadata": {
    "execution": {
     "iopub.execute_input": "2025-04-15T03:39:29.892716Z",
     "iopub.status.busy": "2025-04-15T03:39:29.892493Z",
     "iopub.status.idle": "2025-04-15T03:39:29.899746Z",
     "shell.execute_reply": "2025-04-15T03:39:29.899133Z"
    },
    "papermill": {
     "duration": 0.013008,
     "end_time": "2025-04-15T03:39:29.901016",
     "exception": false,
     "start_time": "2025-04-15T03:39:29.888008",
     "status": "completed"
    },
    "tags": []
   },
   "outputs": [],
   "source": [
    "class PtDataset(Dataset):\n",
    "    def __init__(self, directory):\n",
    "        self.directory = directory\n",
    "        self.classes = sorted(entry.name for entry in os.scandir(directory) if entry.is_dir())\n",
    "        self.class_to_idx = {c: i for i, c in enumerate(self.classes)}\n",
    "        self.files = []\n",
    "        for c in self.classes:\n",
    "            c_dir = os.path.join(directory, c)\n",
    "            c_files = [(os.path.join(c_dir, f), self.class_to_idx[c]) for f in os.listdir(c_dir)]\n",
    "            self.files.extend(c_files)\n",
    "        random.shuffle(self.files)\n",
    "        \n",
    "    def __len__(self):\n",
    "        return len(self.files)\n",
    "    \n",
    "    def __getitem__(self, idx):\n",
    "        filepath, label = self.files[idx]\n",
    "        try:\n",
    "            mat_vals = scipy.io.loadmat(filepath)\n",
    "            data = mat_vals['final']\n",
    "            data = data.T\n",
    "            max_len=800\n",
    "            if (max_len > data.shape[0]):\n",
    "                pad_width = max_len - data.shape[0]\n",
    "                data = np.pad(data, pad_width=((0, pad_width),(0,0)), mode='constant')\n",
    "            else:\n",
    "                data = data[:max_len, :]\n",
    "        except Exception as e:\n",
    "            print(f\"Error loading file {filepath}: {str(e)}\")\n",
    "            return None\n",
    "        return data, label"
   ]
  },
  {
   "cell_type": "code",
   "execution_count": 6,
   "id": "c0685f78",
   "metadata": {
    "execution": {
     "iopub.execute_input": "2025-04-15T03:39:29.909539Z",
     "iopub.status.busy": "2025-04-15T03:39:29.909307Z",
     "iopub.status.idle": "2025-04-15T03:39:31.407781Z",
     "shell.execute_reply": "2025-04-15T03:39:31.406985Z"
    },
    "papermill": {
     "duration": 1.50441,
     "end_time": "2025-04-15T03:39:31.409353",
     "exception": false,
     "start_time": "2025-04-15T03:39:29.904943",
     "status": "completed"
    },
    "tags": []
   },
   "outputs": [],
   "source": [
    "train_dataset = PtDataset(train_data_path)\n",
    "# test_dataset = PtDataset(test_data_path)\n",
    "val_dataset = PtDataset(validation_data_path)"
   ]
  },
  {
   "cell_type": "code",
   "execution_count": 7,
   "id": "19d2b6a3",
   "metadata": {
    "execution": {
     "iopub.execute_input": "2025-04-15T03:39:31.418548Z",
     "iopub.status.busy": "2025-04-15T03:39:31.418324Z",
     "iopub.status.idle": "2025-04-15T03:39:31.421987Z",
     "shell.execute_reply": "2025-04-15T03:39:31.421283Z"
    },
    "papermill": {
     "duration": 0.009283,
     "end_time": "2025-04-15T03:39:31.423178",
     "exception": false,
     "start_time": "2025-04-15T03:39:31.413895",
     "status": "completed"
    },
    "tags": []
   },
   "outputs": [],
   "source": [
    "class PtDataLoader(DataLoader):\n",
    "    def __init__(self, directory, batch_size, shuffle=True):\n",
    "        dataset = PtDataset(directory)\n",
    "        super().__init__(dataset, batch_size=batch_size, shuffle=shuffle)"
   ]
  },
  {
   "cell_type": "code",
   "execution_count": 8,
   "id": "04c22a35",
   "metadata": {
    "execution": {
     "iopub.execute_input": "2025-04-15T03:39:31.431594Z",
     "iopub.status.busy": "2025-04-15T03:39:31.431376Z",
     "iopub.status.idle": "2025-04-15T03:39:32.234508Z",
     "shell.execute_reply": "2025-04-15T03:39:32.233841Z"
    },
    "papermill": {
     "duration": 0.809132,
     "end_time": "2025-04-15T03:39:32.236109",
     "exception": false,
     "start_time": "2025-04-15T03:39:31.426977",
     "status": "completed"
    },
    "tags": []
   },
   "outputs": [],
   "source": [
    "train_dataloader = PtDataLoader(directory=train_data_path, batch_size=batch_size)\n",
    "# test_dataloader = PtDataLoader(directory=test_data_path, batch_size=batch_size)\n",
    "val_dataloader = PtDataLoader(directory=validation_data_path, batch_size=batch_size)"
   ]
  },
  {
   "cell_type": "code",
   "execution_count": 9,
   "id": "b89528cc",
   "metadata": {
    "execution": {
     "iopub.execute_input": "2025-04-15T03:39:32.245370Z",
     "iopub.status.busy": "2025-04-15T03:39:32.245098Z",
     "iopub.status.idle": "2025-04-15T03:39:32.248479Z",
     "shell.execute_reply": "2025-04-15T03:39:32.247677Z"
    },
    "papermill": {
     "duration": 0.009193,
     "end_time": "2025-04-15T03:39:32.249668",
     "exception": false,
     "start_time": "2025-04-15T03:39:32.240475",
     "status": "completed"
    },
    "tags": []
   },
   "outputs": [],
   "source": [
    "train_count = len(train_dataset) \n",
    "# test_count = len(test_dataset)\n",
    "val_count = len(val_dataset)"
   ]
  },
  {
   "cell_type": "code",
   "execution_count": 10,
   "id": "8781d71e",
   "metadata": {
    "execution": {
     "iopub.execute_input": "2025-04-15T03:39:32.258464Z",
     "iopub.status.busy": "2025-04-15T03:39:32.258232Z",
     "iopub.status.idle": "2025-04-15T03:39:32.262295Z",
     "shell.execute_reply": "2025-04-15T03:39:32.261482Z"
    },
    "papermill": {
     "duration": 0.009712,
     "end_time": "2025-04-15T03:39:32.263437",
     "exception": false,
     "start_time": "2025-04-15T03:39:32.253725",
     "status": "completed"
    },
    "tags": []
   },
   "outputs": [
    {
     "name": "stdout",
     "output_type": "stream",
     "text": [
      "137254\n",
      "29426\n"
     ]
    }
   ],
   "source": [
    "print(train_count)\n",
    "# print(test_count)\n",
    "print(val_count)"
   ]
  },
  {
   "cell_type": "code",
   "execution_count": 11,
   "id": "cb3d3e15",
   "metadata": {
    "execution": {
     "iopub.execute_input": "2025-04-15T03:39:32.272017Z",
     "iopub.status.busy": "2025-04-15T03:39:32.271791Z",
     "iopub.status.idle": "2025-04-15T03:39:32.275070Z",
     "shell.execute_reply": "2025-04-15T03:39:32.274268Z"
    },
    "papermill": {
     "duration": 0.009049,
     "end_time": "2025-04-15T03:39:32.276393",
     "exception": false,
     "start_time": "2025-04-15T03:39:32.267344",
     "status": "completed"
    },
    "tags": []
   },
   "outputs": [],
   "source": [
    "import torch\n",
    "from torch import nn\n",
    "from torch.nn import Parameter\n",
    "import torch.nn.functional as F"
   ]
  },
  {
   "cell_type": "code",
   "execution_count": 12,
   "id": "bdbf9724",
   "metadata": {
    "execution": {
     "iopub.execute_input": "2025-04-15T03:39:32.285220Z",
     "iopub.status.busy": "2025-04-15T03:39:32.284990Z",
     "iopub.status.idle": "2025-04-15T03:39:32.288314Z",
     "shell.execute_reply": "2025-04-15T03:39:32.287511Z"
    },
    "papermill": {
     "duration": 0.009091,
     "end_time": "2025-04-15T03:39:32.289560",
     "exception": false,
     "start_time": "2025-04-15T03:39:32.280469",
     "status": "completed"
    },
    "tags": []
   },
   "outputs": [],
   "source": [
    "# Define the parameters\n",
    "input_size = 20\n",
    "hidden_size = 256\n",
    "num_layers = 2\n",
    "num_classes = 4\n",
    "# drop_amount = 0.25  # You can choose an appropriate dropout rate"
   ]
  },
  {
   "cell_type": "code",
   "execution_count": 13,
   "id": "bf44ea1f",
   "metadata": {
    "execution": {
     "iopub.execute_input": "2025-04-15T03:39:32.298014Z",
     "iopub.status.busy": "2025-04-15T03:39:32.297787Z",
     "iopub.status.idle": "2025-04-15T03:39:32.300944Z",
     "shell.execute_reply": "2025-04-15T03:39:32.300117Z"
    },
    "papermill": {
     "duration": 0.008746,
     "end_time": "2025-04-15T03:39:32.302147",
     "exception": false,
     "start_time": "2025-04-15T03:39:32.293401",
     "status": "completed"
    },
    "tags": []
   },
   "outputs": [],
   "source": [
    "import torch\n",
    "import torch.nn as nn\n",
    "import torch.optim as optim"
   ]
  },
  {
   "cell_type": "code",
   "execution_count": 14,
   "id": "385e7f02",
   "metadata": {
    "execution": {
     "iopub.execute_input": "2025-04-15T03:39:32.310658Z",
     "iopub.status.busy": "2025-04-15T03:39:32.310435Z",
     "iopub.status.idle": "2025-04-15T03:39:52.909835Z",
     "shell.execute_reply": "2025-04-15T03:39:52.909106Z"
    },
    "papermill": {
     "duration": 20.605354,
     "end_time": "2025-04-15T03:39:52.911413",
     "exception": false,
     "start_time": "2025-04-15T03:39:32.306059",
     "status": "completed"
    },
    "tags": []
   },
   "outputs": [],
   "source": [
    "import torch \n",
    "import torch.nn as nn\n",
    "import torch.nn.functional as F\n",
    "from torch.autograd import Variable\n",
    "from torch.utils.data import Dataset, DataLoader\n",
    "import os, pathlib, glob, random\n",
    "import numpy as np\n",
    "import matplotlib.pyplot as plt \n",
    "import seaborn as sns\n",
    "from sklearn.metrics import confusion_matrix\n",
    "from transformers import WhisperProcessor, WhisperForConditionalGeneration\n",
    "from datasets import load_dataset\n",
    "from transformers.models.whisper.modeling_whisper import WhisperModel, WhisperEncoder\n",
    "from transformers.models.whisper.configuration_whisper import WhisperConfig\n",
    "from typing import Optional, Tuple, Union\n",
    "import torch\n",
    "import librosa \n",
    "import matplotlib.pyplot as plt\n",
    "import numpy as np\n",
    "import os, glob, pickle\n",
    "import scipy.io as sio\n",
    "from tqdm import tqdm\n",
    "import multiprocessing as mp \n",
    "import torch.optim as optim"
   ]
  },
  {
   "cell_type": "code",
   "execution_count": 15,
   "id": "d0d60df4",
   "metadata": {
    "execution": {
     "iopub.execute_input": "2025-04-15T03:39:52.921080Z",
     "iopub.status.busy": "2025-04-15T03:39:52.920572Z",
     "iopub.status.idle": "2025-04-15T03:39:52.923636Z",
     "shell.execute_reply": "2025-04-15T03:39:52.923056Z"
    },
    "papermill": {
     "duration": 0.008959,
     "end_time": "2025-04-15T03:39:52.924880",
     "exception": false,
     "start_time": "2025-04-15T03:39:52.915921",
     "status": "completed"
    },
    "tags": []
   },
   "outputs": [],
   "source": [
    "# BiLSTM"
   ]
  },
  {
   "cell_type": "code",
   "execution_count": 16,
   "id": "6fb53f8b",
   "metadata": {
    "execution": {
     "iopub.execute_input": "2025-04-15T03:39:52.933510Z",
     "iopub.status.busy": "2025-04-15T03:39:52.933306Z",
     "iopub.status.idle": "2025-04-15T03:39:52.939068Z",
     "shell.execute_reply": "2025-04-15T03:39:52.938434Z"
    },
    "papermill": {
     "duration": 0.011333,
     "end_time": "2025-04-15T03:39:52.940172",
     "exception": false,
     "start_time": "2025-04-15T03:39:52.928839",
     "status": "completed"
    },
    "tags": []
   },
   "outputs": [],
   "source": [
    "drop_amount = 0.255\n",
    "\n",
    "class BiLSTMClassifier(nn.Module):\n",
    "    def __init__(self, input_size, hidden_size, num_layers, num_classes):\n",
    "        super(BiLSTMClassifier, self).__init__()\n",
    "        self.hidden_size = hidden_size\n",
    "        self.num_layers = num_layers\n",
    "        self.lstm = nn.LSTM(input_size, hidden_size, num_layers, batch_first=True, bidirectional=True)\n",
    "        self.dropout = nn.Dropout(p=drop_amount)\n",
    "        self.fc = nn.Linear(hidden_size*2, num_classes)\n",
    "\n",
    "    def forward(self, x):\n",
    "        h0 = torch.zeros(self.num_layers*2, x.size(0), self.hidden_size).to(device=x.device, dtype=torch.double)\n",
    "        c0 = torch.zeros(self.num_layers*2, x.size(0), self.hidden_size).to(device=x.device, dtype=torch.double)\n",
    "        out, _ = self.lstm(x, (h0, c0))\n",
    "        out = self.dropout(out)\n",
    "        # Extract the output of the last time step from both directions\n",
    "        last_hidden_state = torch.cat((out[:, -1, :self.hidden_size], out[:, 0, self.hidden_size:]), dim=1)\n",
    "        output = self.fc(last_hidden_state)\n",
    "        return output"
   ]
  },
  {
   "cell_type": "code",
   "execution_count": 17,
   "id": "3a37423c",
   "metadata": {
    "execution": {
     "iopub.execute_input": "2025-04-15T03:39:52.948825Z",
     "iopub.status.busy": "2025-04-15T03:39:52.948593Z",
     "iopub.status.idle": "2025-04-15T03:39:52.951453Z",
     "shell.execute_reply": "2025-04-15T03:39:52.950865Z"
    },
    "papermill": {
     "duration": 0.008494,
     "end_time": "2025-04-15T03:39:52.952592",
     "exception": false,
     "start_time": "2025-04-15T03:39:52.944098",
     "status": "completed"
    },
    "tags": []
   },
   "outputs": [],
   "source": [
    "batch_size = 32\n",
    "output_nodes = 4\n",
    "learning_rate = 0.003"
   ]
  },
  {
   "cell_type": "code",
   "execution_count": 18,
   "id": "be2acf85",
   "metadata": {
    "execution": {
     "iopub.execute_input": "2025-04-15T03:39:52.961081Z",
     "iopub.status.busy": "2025-04-15T03:39:52.960883Z",
     "iopub.status.idle": "2025-04-15T03:39:53.310288Z",
     "shell.execute_reply": "2025-04-15T03:39:53.309110Z"
    },
    "papermill": {
     "duration": 0.355119,
     "end_time": "2025-04-15T03:39:53.311657",
     "exception": false,
     "start_time": "2025-04-15T03:39:52.956538",
     "status": "completed"
    },
    "tags": []
   },
   "outputs": [
    {
     "name": "stdout",
     "output_type": "stream",
     "text": [
      "BiLSTMClassifier(\n",
      "  (lstm): LSTM(20, 256, num_layers=2, batch_first=True, bidirectional=True)\n",
      "  (dropout): Dropout(p=0.255, inplace=False)\n",
      "  (fc): Linear(in_features=512, out_features=4, bias=True)\n",
      ")\n"
     ]
    }
   ],
   "source": [
    "model = BiLSTMClassifier(input_size, hidden_size, num_layers, num_classes)\n",
    "model.to(device, dtype=torch.double)\n",
    "loss_function = nn.CrossEntropyLoss()\n",
    "optimizer = optim.Adam(model.parameters(), lr=learning_rate)\n",
    "print(model)"
   ]
  },
  {
   "cell_type": "code",
   "execution_count": 19,
   "id": "efa2ccdb",
   "metadata": {
    "execution": {
     "iopub.execute_input": "2025-04-15T03:39:53.320758Z",
     "iopub.status.busy": "2025-04-15T03:39:53.320495Z",
     "iopub.status.idle": "2025-04-15T03:39:53.324200Z",
     "shell.execute_reply": "2025-04-15T03:39:53.323378Z"
    },
    "papermill": {
     "duration": 0.00944,
     "end_time": "2025-04-15T03:39:53.325400",
     "exception": false,
     "start_time": "2025-04-15T03:39:53.315960",
     "status": "completed"
    },
    "tags": []
   },
   "outputs": [
    {
     "name": "stdout",
     "output_type": "stream",
     "text": [
      "BiLSTMClassifier(\n",
      "  (lstm): LSTM(20, 256, num_layers=2, batch_first=True, bidirectional=True)\n",
      "  (dropout): Dropout(p=0.255, inplace=False)\n",
      "  (fc): Linear(in_features=512, out_features=4, bias=True)\n",
      ")\n"
     ]
    }
   ],
   "source": [
    "print(model)"
   ]
  },
  {
   "cell_type": "code",
   "execution_count": 20,
   "id": "34d15020",
   "metadata": {
    "execution": {
     "iopub.execute_input": "2025-04-15T03:39:53.334540Z",
     "iopub.status.busy": "2025-04-15T03:39:53.334329Z",
     "iopub.status.idle": "2025-04-15T10:45:15.022965Z",
     "shell.execute_reply": "2025-04-15T10:45:15.021932Z"
    },
    "papermill": {
     "duration": 25521.694867,
     "end_time": "2025-04-15T10:45:15.024481",
     "exception": false,
     "start_time": "2025-04-15T03:39:53.329614",
     "status": "completed"
    },
    "tags": []
   },
   "outputs": [
    {
     "name": "stdout",
     "output_type": "stream",
     "text": [
      "\n",
      "Epoch 1/15 - Training...\n"
     ]
    },
    {
     "name": "stderr",
     "output_type": "stream",
     "text": [
      "Training Batches: 100%|██████████| 4290/4290 [31:19<00:00,  2.28it/s]\n"
     ]
    },
    {
     "name": "stdout",
     "output_type": "stream",
     "text": [
      "Epoch 1/15 - Validation...\n"
     ]
    },
    {
     "name": "stderr",
     "output_type": "stream",
     "text": [
      "Validation Batches: 100%|██████████| 920/920 [04:02<00:00,  3.79it/s]\n"
     ]
    },
    {
     "name": "stdout",
     "output_type": "stream",
     "text": [
      "Epoch: 1/15   Train Loss: 0.6371   Train Accuracy: 0.7295   Validation Accuracy: 0.7660\n",
      "\n",
      "Epoch 2/15 - Training...\n"
     ]
    },
    {
     "name": "stderr",
     "output_type": "stream",
     "text": [
      "Training Batches: 100%|██████████| 4290/4290 [24:08<00:00,  2.96it/s]\n"
     ]
    },
    {
     "name": "stdout",
     "output_type": "stream",
     "text": [
      "Epoch 2/15 - Validation...\n"
     ]
    },
    {
     "name": "stderr",
     "output_type": "stream",
     "text": [
      "Validation Batches: 100%|██████████| 920/920 [02:39<00:00,  5.76it/s]\n"
     ]
    },
    {
     "name": "stdout",
     "output_type": "stream",
     "text": [
      "Epoch: 2/15   Train Loss: 0.5327   Train Accuracy: 0.7687   Validation Accuracy: 0.7719\n",
      "\n",
      "Epoch 3/15 - Training...\n"
     ]
    },
    {
     "name": "stderr",
     "output_type": "stream",
     "text": [
      "Training Batches: 100%|██████████| 4290/4290 [24:51<00:00,  2.88it/s]\n"
     ]
    },
    {
     "name": "stdout",
     "output_type": "stream",
     "text": [
      "Epoch 3/15 - Validation...\n"
     ]
    },
    {
     "name": "stderr",
     "output_type": "stream",
     "text": [
      "Validation Batches: 100%|██████████| 920/920 [02:50<00:00,  5.38it/s]\n"
     ]
    },
    {
     "name": "stdout",
     "output_type": "stream",
     "text": [
      "Epoch: 3/15   Train Loss: 0.5127   Train Accuracy: 0.7745   Validation Accuracy: 0.7751\n",
      "\n",
      "Epoch 4/15 - Training...\n"
     ]
    },
    {
     "name": "stderr",
     "output_type": "stream",
     "text": [
      "Training Batches: 100%|██████████| 4290/4290 [24:53<00:00,  2.87it/s]\n"
     ]
    },
    {
     "name": "stdout",
     "output_type": "stream",
     "text": [
      "Epoch 4/15 - Validation...\n"
     ]
    },
    {
     "name": "stderr",
     "output_type": "stream",
     "text": [
      "Validation Batches: 100%|██████████| 920/920 [02:57<00:00,  5.18it/s]\n"
     ]
    },
    {
     "name": "stdout",
     "output_type": "stream",
     "text": [
      "Epoch: 4/15   Train Loss: 0.5053   Train Accuracy: 0.7766   Validation Accuracy: 0.7781\n",
      "\n",
      "Epoch 5/15 - Training...\n"
     ]
    },
    {
     "name": "stderr",
     "output_type": "stream",
     "text": [
      "Training Batches: 100%|██████████| 4290/4290 [25:19<00:00,  2.82it/s]\n"
     ]
    },
    {
     "name": "stdout",
     "output_type": "stream",
     "text": [
      "Epoch 5/15 - Validation...\n"
     ]
    },
    {
     "name": "stderr",
     "output_type": "stream",
     "text": [
      "Validation Batches: 100%|██████████| 920/920 [02:59<00:00,  5.11it/s]\n"
     ]
    },
    {
     "name": "stdout",
     "output_type": "stream",
     "text": [
      "Epoch: 5/15   Train Loss: 0.4957   Train Accuracy: 0.7797   Validation Accuracy: 0.7781\n",
      "\n",
      "Epoch 6/15 - Training...\n"
     ]
    },
    {
     "name": "stderr",
     "output_type": "stream",
     "text": [
      "Training Batches: 100%|██████████| 4290/4290 [25:06<00:00,  2.85it/s]\n"
     ]
    },
    {
     "name": "stdout",
     "output_type": "stream",
     "text": [
      "Epoch 6/15 - Validation...\n"
     ]
    },
    {
     "name": "stderr",
     "output_type": "stream",
     "text": [
      "Validation Batches: 100%|██████████| 920/920 [03:04<00:00,  4.99it/s]\n"
     ]
    },
    {
     "name": "stdout",
     "output_type": "stream",
     "text": [
      "Epoch: 6/15   Train Loss: 0.4976   Train Accuracy: 0.7794   Validation Accuracy: 0.7785\n",
      "\n",
      "Epoch 7/15 - Training...\n"
     ]
    },
    {
     "name": "stderr",
     "output_type": "stream",
     "text": [
      "Training Batches: 100%|██████████| 4290/4290 [25:03<00:00,  2.85it/s]\n"
     ]
    },
    {
     "name": "stdout",
     "output_type": "stream",
     "text": [
      "Epoch 7/15 - Validation...\n"
     ]
    },
    {
     "name": "stderr",
     "output_type": "stream",
     "text": [
      "Validation Batches: 100%|██████████| 920/920 [02:51<00:00,  5.35it/s]\n"
     ]
    },
    {
     "name": "stdout",
     "output_type": "stream",
     "text": [
      "Epoch: 7/15   Train Loss: 0.4910   Train Accuracy: 0.7812   Validation Accuracy: 0.7799\n",
      "\n",
      "Epoch 8/15 - Training...\n"
     ]
    },
    {
     "name": "stderr",
     "output_type": "stream",
     "text": [
      "Training Batches: 100%|██████████| 4290/4290 [25:00<00:00,  2.86it/s]\n"
     ]
    },
    {
     "name": "stdout",
     "output_type": "stream",
     "text": [
      "Epoch 8/15 - Validation...\n"
     ]
    },
    {
     "name": "stderr",
     "output_type": "stream",
     "text": [
      "Validation Batches: 100%|██████████| 920/920 [02:55<00:00,  5.24it/s]\n"
     ]
    },
    {
     "name": "stdout",
     "output_type": "stream",
     "text": [
      "Epoch: 8/15   Train Loss: 0.4849   Train Accuracy: 0.7830   Validation Accuracy: 0.7806\n",
      "\n",
      "Epoch 9/15 - Training...\n"
     ]
    },
    {
     "name": "stderr",
     "output_type": "stream",
     "text": [
      "Training Batches: 100%|██████████| 4290/4290 [24:57<00:00,  2.86it/s]\n"
     ]
    },
    {
     "name": "stdout",
     "output_type": "stream",
     "text": [
      "Epoch 9/15 - Validation...\n"
     ]
    },
    {
     "name": "stderr",
     "output_type": "stream",
     "text": [
      "Validation Batches: 100%|██████████| 920/920 [02:52<00:00,  5.33it/s]\n"
     ]
    },
    {
     "name": "stdout",
     "output_type": "stream",
     "text": [
      "Epoch: 9/15   Train Loss: 0.4864   Train Accuracy: 0.7823   Validation Accuracy: 0.7840\n",
      "\n",
      "Epoch 10/15 - Training...\n"
     ]
    },
    {
     "name": "stderr",
     "output_type": "stream",
     "text": [
      "Training Batches: 100%|██████████| 4290/4290 [24:55<00:00,  2.87it/s]\n"
     ]
    },
    {
     "name": "stdout",
     "output_type": "stream",
     "text": [
      "Epoch 10/15 - Validation...\n"
     ]
    },
    {
     "name": "stderr",
     "output_type": "stream",
     "text": [
      "Validation Batches: 100%|██████████| 920/920 [02:52<00:00,  5.34it/s]\n"
     ]
    },
    {
     "name": "stdout",
     "output_type": "stream",
     "text": [
      "Epoch: 10/15   Train Loss: 0.4841   Train Accuracy: 0.7834   Validation Accuracy: 0.7820\n",
      "\n",
      "Epoch 11/15 - Training...\n"
     ]
    },
    {
     "name": "stderr",
     "output_type": "stream",
     "text": [
      "Training Batches: 100%|██████████| 4290/4290 [24:52<00:00,  2.87it/s]\n"
     ]
    },
    {
     "name": "stdout",
     "output_type": "stream",
     "text": [
      "Epoch 11/15 - Validation...\n"
     ]
    },
    {
     "name": "stderr",
     "output_type": "stream",
     "text": [
      "Validation Batches: 100%|██████████| 920/920 [02:48<00:00,  5.46it/s]\n"
     ]
    },
    {
     "name": "stdout",
     "output_type": "stream",
     "text": [
      "Epoch: 11/15   Train Loss: 0.4768   Train Accuracy: 0.7842   Validation Accuracy: 0.7798\n",
      "\n",
      "Epoch 12/15 - Training...\n"
     ]
    },
    {
     "name": "stderr",
     "output_type": "stream",
     "text": [
      "Training Batches: 100%|██████████| 4290/4290 [24:54<00:00,  2.87it/s]\n"
     ]
    },
    {
     "name": "stdout",
     "output_type": "stream",
     "text": [
      "Epoch 12/15 - Validation...\n"
     ]
    },
    {
     "name": "stderr",
     "output_type": "stream",
     "text": [
      "Validation Batches: 100%|██████████| 920/920 [02:53<00:00,  5.31it/s]\n"
     ]
    },
    {
     "name": "stdout",
     "output_type": "stream",
     "text": [
      "Epoch: 12/15   Train Loss: 0.4718   Train Accuracy: 0.7852   Validation Accuracy: 0.7870\n",
      "\n",
      "Epoch 13/15 - Training...\n"
     ]
    },
    {
     "name": "stderr",
     "output_type": "stream",
     "text": [
      "Training Batches: 100%|██████████| 4290/4290 [25:17<00:00,  2.83it/s]\n"
     ]
    },
    {
     "name": "stdout",
     "output_type": "stream",
     "text": [
      "Epoch 13/15 - Validation...\n"
     ]
    },
    {
     "name": "stderr",
     "output_type": "stream",
     "text": [
      "Validation Batches: 100%|██████████| 920/920 [02:56<00:00,  5.22it/s]\n"
     ]
    },
    {
     "name": "stdout",
     "output_type": "stream",
     "text": [
      "Epoch: 13/15   Train Loss: 0.4647   Train Accuracy: 0.7882   Validation Accuracy: 0.7884\n",
      "\n",
      "Epoch 14/15 - Training...\n"
     ]
    },
    {
     "name": "stderr",
     "output_type": "stream",
     "text": [
      "Training Batches: 100%|██████████| 4290/4290 [25:02<00:00,  2.86it/s]\n"
     ]
    },
    {
     "name": "stdout",
     "output_type": "stream",
     "text": [
      "Epoch 14/15 - Validation...\n"
     ]
    },
    {
     "name": "stderr",
     "output_type": "stream",
     "text": [
      "Validation Batches: 100%|██████████| 920/920 [02:51<00:00,  5.38it/s]\n"
     ]
    },
    {
     "name": "stdout",
     "output_type": "stream",
     "text": [
      "Epoch: 14/15   Train Loss: 0.4624   Train Accuracy: 0.7900   Validation Accuracy: 0.7737\n",
      "\n",
      "Epoch 15/15 - Training...\n"
     ]
    },
    {
     "name": "stderr",
     "output_type": "stream",
     "text": [
      "Training Batches: 100%|██████████| 4290/4290 [25:05<00:00,  2.85it/s]\n"
     ]
    },
    {
     "name": "stdout",
     "output_type": "stream",
     "text": [
      "Epoch 15/15 - Validation...\n"
     ]
    },
    {
     "name": "stderr",
     "output_type": "stream",
     "text": [
      "Validation Batches: 100%|██████████| 920/920 [02:55<00:00,  5.23it/s]"
     ]
    },
    {
     "name": "stdout",
     "output_type": "stream",
     "text": [
      "Epoch: 15/15   Train Loss: 0.4618   Train Accuracy: 0.7909   Validation Accuracy: 0.7876\n",
      "\n",
      "Maximum Validation Accuracy: 0.788418405491742\n",
      "Finished Training and Validation\n"
     ]
    },
    {
     "name": "stderr",
     "output_type": "stream",
     "text": [
      "\n"
     ]
    }
   ],
   "source": [
    "from tqdm import tqdm\n",
    "import torch\n",
    "from torch.autograd import Variable\n",
    "\n",
    "# Model training and testing\n",
    "n_total_steps = len(train_dataloader)\n",
    "train_accuracy_list = []\n",
    "train_loss_list = []\n",
    "val_accuracy_list = []\n",
    "max_acc = 0\n",
    "num_epochs = 15\n",
    "pred_labels = []\n",
    "act_labels = []\n",
    "\n",
    "for epoch in range(num_epochs):\n",
    "    \n",
    "    # Training phase\n",
    "    model.train()\n",
    "    train_accuracy = 0.0\n",
    "    train_loss = 0.0\n",
    "    \n",
    "    print(f\"\\nEpoch {epoch + 1}/{num_epochs} - Training...\")\n",
    "    \n",
    "    # Use tqdm for progress bar in training loop\n",
    "    for batch_idx, (images, labels) in enumerate(tqdm(train_dataloader, desc=\"Training Batches\")):\n",
    "        if torch.cuda.is_available():\n",
    "            images = Variable(images.cuda())\n",
    "            labels = Variable(labels.cuda())\n",
    "        \n",
    "        optimizer.zero_grad()\n",
    "        outputs = model(images)\n",
    "        loss = loss_function(outputs, labels)\n",
    "        loss.backward()\n",
    "        optimizer.step()\n",
    "\n",
    "        train_loss += loss.cpu().data * images.size(0)\n",
    "        _, prediction = torch.max(outputs.data, 1)\n",
    "        train_accuracy += int(torch.sum(prediction == labels.data))\n",
    "    \n",
    "    train_accuracy = train_accuracy / train_count\n",
    "    train_loss = train_loss / train_count\n",
    "    \n",
    "    train_accuracy_list.append(train_accuracy)\n",
    "    train_loss_list.append(train_loss)\n",
    "\n",
    "    # Validation phase\n",
    "    model.eval()\n",
    "    val_accuracy = 0.0\n",
    "    pred = []\n",
    "    lab = []\n",
    "    \n",
    "    print(f\"Epoch {epoch + 1}/{num_epochs} - Validation...\")\n",
    "    \n",
    "    # Use tqdm for progress bar in validation loop\n",
    "    for i, (images, labels) in enumerate(tqdm(val_dataloader, desc=\"Validation Batches\")):\n",
    "        if torch.cuda.is_available():\n",
    "            images = Variable(images.cuda())\n",
    "            labels = Variable(labels.cuda())\n",
    "        \n",
    "        outputs = model(images)\n",
    "        _, prediction = torch.max(outputs.data, 1)\n",
    "        val_accuracy += int(torch.sum(prediction == labels.data))\n",
    "        \n",
    "        pred.extend(prediction.tolist())\n",
    "        lab.extend(labels.tolist())\n",
    "    \n",
    "    val_accuracy = val_accuracy / val_count\n",
    "    val_accuracy_list.append(val_accuracy)\n",
    "    \n",
    "    # Save best model\n",
    "    if max_acc < val_accuracy:\n",
    "        max_acc = val_accuracy\n",
    "        pred_labels = pred\n",
    "        actual_labels = lab\n",
    "        torch.save(model, \"best_accuracy_model_BiLSTM.pth\")\n",
    "    \n",
    "    print(f'Epoch: {epoch + 1}/{num_epochs}   '\n",
    "          f'Train Loss: {train_loss:.4f}   '\n",
    "          f'Train Accuracy: {train_accuracy:.4f}   '\n",
    "          f'Validation Accuracy: {val_accuracy:.4f}')\n",
    "\n",
    "print('\\nMaximum Validation Accuracy:', max_acc)\n",
    "print('Finished Training and Validation')\n"
   ]
  },
  {
   "cell_type": "code",
   "execution_count": 21,
   "id": "85032996",
   "metadata": {
    "execution": {
     "iopub.execute_input": "2025-04-15T10:45:22.672565Z",
     "iopub.status.busy": "2025-04-15T10:45:22.672177Z",
     "iopub.status.idle": "2025-04-15T10:45:22.675785Z",
     "shell.execute_reply": "2025-04-15T10:45:22.675075Z"
    },
    "papermill": {
     "duration": 3.874581,
     "end_time": "2025-04-15T10:45:22.677077",
     "exception": false,
     "start_time": "2025-04-15T10:45:18.802496",
     "status": "completed"
    },
    "tags": []
   },
   "outputs": [],
   "source": [
    "# # Load the best model\n",
    "# best_model = torch.load(\"best_accuracy_model_BiLSTM.pth\")\n",
    "\n",
    "# # Put the best_model in evaluation mode\n",
    "# best_model.eval()\n",
    "\n",
    "# # Initialize variables to store results\n",
    "# testing_accuracy = 0.0\n",
    "# pred_labels = []\n",
    "# act_labels = []\n",
    "\n",
    "# # Pass validation data through the best model\n",
    "# for i, (images, labels) in enumerate(test_dataloader):\n",
    "#     if torch.cuda.is_available():\n",
    "#         images = Variable(images.cuda())\n",
    "#         labels = Variable(labels.cuda())\n",
    "    \n",
    "#     outputs = best_model(images)\n",
    "#     _, prediction = torch.max(outputs.data, 1)\n",
    "    \n",
    "#     testing_accuracy += int(torch.sum(prediction == labels.data))\n",
    "    \n",
    "#     pred_labels.extend(prediction.tolist())\n",
    "#     act_labels.extend(labels.tolist())\n",
    "\n",
    "# # Calculate validation accuracy\n",
    "# testing_accuracy = testing_accuracy / len(test_dataloader.dataset)\n",
    "\n",
    "# # Print the validation accuracy\n",
    "# print(\"testing Accuracy:\", testing_accuracy)"
   ]
  },
  {
   "cell_type": "code",
   "execution_count": 22,
   "id": "92851ff9",
   "metadata": {
    "execution": {
     "iopub.execute_input": "2025-04-15T10:45:30.303041Z",
     "iopub.status.busy": "2025-04-15T10:45:30.302742Z",
     "iopub.status.idle": "2025-04-15T10:45:30.306061Z",
     "shell.execute_reply": "2025-04-15T10:45:30.305401Z"
    },
    "papermill": {
     "duration": 3.91956,
     "end_time": "2025-04-15T10:45:30.307170",
     "exception": false,
     "start_time": "2025-04-15T10:45:26.387610",
     "status": "completed"
    },
    "tags": []
   },
   "outputs": [],
   "source": [
    "# # Calculate the confusion matrix\n",
    "# import seaborn as sns\n",
    "# conf_mat = confusion_matrix(act_labels, pred_labels)\n",
    "# # Plot confusion matrix heat map\n",
    "# sns.heatmap(conf_mat, cmap=\"flare\",annot=True, fmt = \"g\", \n",
    "#             cbar_kws={\"label\":\"color bar\"},\n",
    "#             xticklabels=train_dataset.classes,\n",
    "#             yticklabels=train_dataset.classes)\n",
    "# plt.xlabel(\"Predicted\")\n",
    "# plt.ylabel(\"Actual\")\n",
    "# plt.title(\"Confusion Matrix\")\n",
    "# plt.savefig(\"ConfusionMatrix_BiLSTM.png\")\n",
    "# plt.show()\n",
    "# from sklearn.metrics import f1_score\n",
    "# f1_score = f1_score(pred_labels, act_labels, average='macro')\n",
    "# print('F1 Score : ', f1_score)\n"
   ]
  },
  {
   "cell_type": "code",
   "execution_count": 23,
   "id": "0ecbd524",
   "metadata": {
    "execution": {
     "iopub.execute_input": "2025-04-15T10:45:37.898925Z",
     "iopub.status.busy": "2025-04-15T10:45:37.898587Z",
     "iopub.status.idle": "2025-04-15T10:45:37.902105Z",
     "shell.execute_reply": "2025-04-15T10:45:37.901372Z"
    },
    "papermill": {
     "duration": 3.873025,
     "end_time": "2025-04-15T10:45:37.903337",
     "exception": false,
     "start_time": "2025-04-15T10:45:34.030312",
     "status": "completed"
    },
    "tags": []
   },
   "outputs": [],
   "source": [
    "# import numpy as np\n",
    "# import sklearn.metrics\n",
    "\n",
    "# \"\"\"\n",
    "# Python compute equal error rate (eer)\n",
    "# ONLY tested on binary classification\n",
    "\n",
    "# :param label: ground-truth label, should be a 1-d list or np.array, each element represents the ground-truth label of one sample\n",
    "# :param pred: model prediction, should be a 1-d list or np.array, each element represents the model prediction of one sample\n",
    "# :param positive_label: the class that is viewed as positive class when computing EER\n",
    "# :return: equal error rate (EER)\n",
    "# \"\"\"\n",
    "# def compute_eer(label, pred):\n",
    "#     # all fpr, tpr, fnr, fnr, threshold are lists (in the format of np.array)\n",
    "#     fpr, tpr, threshold = sklearn.metrics.roc_curve(label, pred)\n",
    "#     fnr = 1 - tpr\n",
    "\n",
    "#     # the threshold of fnr == fpr\n",
    "#     eer_threshold = threshold[np.nanargmin(np.absolute((fnr - fpr)))]\n",
    "\n",
    "#     # theoretically eer from fpr and eer from fnr should be identical but they can be slightly differ in reality\n",
    "#     eer_1 = fpr[np.nanargmin(np.absolute((fnr - fpr)))]\n",
    "#     eer_2 = fnr[np.nanargmin(np.absolute((fnr - fpr)))]\n",
    "\n",
    "#     # return the mean of eer from fpr and from fnr\n",
    "#     eer = (eer_1 + eer_2) / 2\n",
    "#     return eer\n",
    "\n",
    "# eer = compute_eer(act_labels, pred_labels)\n",
    "# print('The equal error rate is {:.3f}'.format(eer))"
   ]
  }
 ],
 "metadata": {
  "kaggle": {
   "accelerator": "gpu",
   "dataSources": [
    {
     "datasetId": 7127865,
     "sourceId": 11383552,
     "sourceType": "datasetVersion"
    }
   ],
   "dockerImageVersionId": 30919,
   "isGpuEnabled": true,
   "isInternetEnabled": true,
   "language": "python",
   "sourceType": "notebook"
  },
  "kernelspec": {
   "display_name": "Python 3",
   "language": "python",
   "name": "python3"
  },
  "language_info": {
   "codemirror_mode": {
    "name": "ipython",
    "version": 3
   },
   "file_extension": ".py",
   "mimetype": "text/x-python",
   "name": "python",
   "nbconvert_exporter": "python",
   "pygments_lexer": "ipython3",
   "version": "3.10.12"
  },
  "papermill": {
   "default_parameters": {},
   "duration": 25583.088754,
   "end_time": "2025-04-15T10:45:44.781471",
   "environment_variables": {},
   "exception": null,
   "input_path": "__notebook__.ipynb",
   "output_path": "__notebook__.ipynb",
   "parameters": {},
   "start_time": "2025-04-15T03:39:21.692717",
   "version": "2.4.0"
  }
 },
 "nbformat": 4,
 "nbformat_minor": 5
}
